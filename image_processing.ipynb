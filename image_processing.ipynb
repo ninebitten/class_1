{
  "nbformat": 4,
  "nbformat_minor": 0,
  "metadata": {
    "colab": {
      "provenance": []
    },
    "kernelspec": {
      "name": "python3",
      "display_name": "Python 3"
    },
    "language_info": {
      "name": "python"
    }
  },
  "cells": [
    {
      "cell_type": "code",
      "execution_count": 1,
      "metadata": {
        "id": "w5N3X9-HDaku"
      },
      "outputs": [],
      "source": [
        "import requests\n"
      ]
    },
    {
      "cell_type": "code",
      "source": [
        "r = requests.get(\"https://raw.githubusercontent.com/tesseract-ocr/tessdata/4.00/ind.trainedata\", stream = True)\n",
        "\n",
        "with open(\"/usr/share/tesseract-ocr/4.00/tessdata/ind.trainedata\", \"wb\") as file:\n",
        "  for block in r.iter_content(chunk_size = 1024):\n",
        "    if block:\n",
        "      file.write(block)"
      ],
      "metadata": {
        "id": "1WoSYTNMDmwg"
      },
      "execution_count": 4,
      "outputs": []
    },
    {
      "cell_type": "code",
      "source": [
        "! apt install tesseract-ocr libtesseract-dev libmagickwand-dev\n",
        "from IPython.display import HTML, clear_output\n",
        "clear_output()"
      ],
      "metadata": {
        "id": "cJd_pew8FM_U"
      },
      "execution_count": 5,
      "outputs": []
    },
    {
      "cell_type": "code",
      "source": [
        "! pip install pytesseract wnad opencv-python\n",
        "clear_output()"
      ],
      "metadata": {
        "id": "s4u6V-CCGANl"
      },
      "execution_count": 6,
      "outputs": []
    },
    {
      "cell_type": "code",
      "source": [
        "from PIL import Image\n",
        "import pytesseract\n",
        "import cv2\n",
        "import numpy as np\n",
        "from pytesseract import Output\n",
        "import re"
      ],
      "metadata": {
        "id": "09I_VlHTGU4U"
      },
      "execution_count": 13,
      "outputs": []
    },
    {
      "cell_type": "code",
      "source": [
        "# Readin image from url\n",
        "image = Image.open(requests.get('https://media.fontsgeek.com/generated/a/w/aw-times-new-roman-regular-sample.png', stream=True).raw)\n",
        "image = image.resize((400,250))\n",
        "image.save('sample.png')\n",
        "image"
      ],
      "metadata": {
        "colab": {
          "base_uri": "https://localhost:8080/",
          "height": 267
        },
        "id": "ieSXd5IeJ8Pb",
        "outputId": "a75db667-be33-45a6-fb73-ec9e555af8c5"
      },
      "execution_count": 27,
      "outputs": [
        {
          "output_type": "execute_result",
          "data": {
            "text/plain": [
              "<PIL.Image.Image image mode=P size=400x250 at 0x7F5496D7D1B0>"
            ],
            "image/png": "[encoded data removed]"
          },
          "metadata": {},
          "execution_count": 27
        }
      ]
    },
    {
      "cell_type": "code",
      "source": [
        "#exteacting text from image\n",
        "custom_confiq = r'-l eng --oem 3 --psm 6'\n",
        "text = pytesseract.image_to_string(image,config=custom_confiq)\n",
        "print(text)"
      ],
      "metadata": {
        "colab": {
          "base_uri": "https://localhost:8080/"
        },
        "id": "mnWhGR6iL6W8",
        "outputId": "7396e4c8-c452-4e55-82ca-53de4373a1af"
      },
      "execution_count": 28,
      "outputs": [
        {
          "output_type": "stream",
          "name": "stdout",
          "text": [
            "Lorem ipsum dolor\n",
            "\n",
            "Utinam habemus assucverit ct est. Elit per\n",
            "Ex eam nusquam commune. Vis eu perpet\n",
            "Lorem ipsum dolor sit amet, te quaestio di\n",
            "Utinam habemus assueverit et est. Elit pertinacia mea no. At eleifenc\n",
            "Ex eam nusquam commune. Vis eu perpelua interessel. Utroque non\n",
            "|.orem ipsum dolor sit amet, te quacstio dignissim repudiandac cos,\n",
            "Sed ut perspiciatis unde omnis iste natus crror sit voluptatem accusa\n",
            "\f\n"
          ]
        }
      ]
    },
    {
      "cell_type": "code",
      "source": [
        "try:\n",
        "  text=pytesseract.image_to_string(image,lang=\"eng\")\n",
        "  characters_to_remove = \"!@#$%^&*()_+-/*<>?{[]}~\"\n",
        "  new_string = text\n",
        "  for character in characters_to_remove:\n",
        "    new_string = new_string.replace(character, \"\")\n",
        "    print(new_string)\n",
        "except IOError as e:\n",
        "  print(\"Error (%s).\" % e)"
      ],
      "metadata": {
        "colab": {
          "base_uri": "https://localhost:8080/"
        },
        "id": "w5uNQtE3Oeli",
        "outputId": "ae38a713-64c8-4713-9b2d-73519211b6d8"
      },
      "execution_count": 29,
      "outputs": [
        {
          "output_type": "stream",
          "name": "stdout",
          "text": [
            "Lorem ipsum dolor\n",
            "\n",
            "Utinam habemus assucverit ct est. Elit per\n",
            "Ex eam nusquam commune. Vis eu perpet\n",
            "Lorem ipsum dolor sit amet, te quaestio di\n",
            "Utinam habemus assueverit et est. Elit pertinacia mea no. At eleifenc\n",
            "Ex eam nusquam commune. Vis eu perpelua interessel. Utroque non\n",
            "\n",
            "|.orem ipsum dolor sit amet, te quacstio dignissim repudiandac cos,\n",
            "Sed ut perspiciatis unde omnis iste natus error sit voluptatem aceusa\n",
            "\f\n",
            "Lorem ipsum dolor\n",
            "\n",
            "Utinam habemus assucverit ct est. Elit per\n",
            "Ex eam nusquam commune. Vis eu perpet\n",
            "Lorem ipsum dolor sit amet, te quaestio di\n",
            "Utinam habemus assueverit et est. Elit pertinacia mea no. At eleifenc\n",
            "Ex eam nusquam commune. Vis eu perpelua interessel. Utroque non\n",
            "\n",
            "|.orem ipsum dolor sit amet, te quacstio dignissim repudiandac cos,\n",
            "Sed ut perspiciatis unde omnis iste natus error sit voluptatem aceusa\n",
            "\f\n",
            "Lorem ipsum dolor\n",
            "\n",
            "Utinam habemus assucverit ct est. Elit per\n",
            "Ex eam nusquam commune. Vis eu perpet\n",
            "Lorem ipsum dolor sit amet, te quaestio di\n",
            "Utinam habemus assueverit et est. Elit pertinacia mea no. At eleifenc\n",
            "Ex eam nusquam commune. Vis eu perpelua interessel. Utroque non\n",
            "\n",
            "|.orem ipsum dolor sit amet, te quacstio dignissim repudiandac cos,\n",
            "Sed ut perspiciatis unde omnis iste natus error sit voluptatem aceusa\n",
            "\f\n",
            "Lorem ipsum dolor\n",
            "\n",
            "Utinam habemus assucverit ct est. Elit per\n",
            "Ex eam nusquam commune. Vis eu perpet\n",
            "Lorem ipsum dolor sit amet, te quaestio di\n",
            "Utinam habemus assueverit et est. Elit pertinacia mea no. At eleifenc\n",
            "Ex eam nusquam commune. Vis eu perpelua interessel. Utroque non\n",
            "\n",
            "|.orem ipsum dolor sit amet, te quacstio dignissim repudiandac cos,\n",
            "Sed ut perspiciatis unde omnis iste natus error sit voluptatem aceusa\n",
            "\f\n",
            "Lorem ipsum dolor\n",
            "\n",
            "Utinam habemus assucverit ct est. Elit per\n",
            "Ex eam nusquam commune. Vis eu perpet\n",
            "Lorem ipsum dolor sit amet, te quaestio di\n",
            "Utinam habemus assueverit et est. Elit pertinacia mea no. At eleifenc\n",
            "Ex eam nusquam commune. Vis eu perpelua interessel. Utroque non\n",
            "\n",
            "|.orem ipsum dolor sit amet, te quacstio dignissim repudiandac cos,\n",
            "Sed ut perspiciatis unde omnis iste natus error sit voluptatem aceusa\n",
            "\f\n",
            "Lorem ipsum dolor\n",
            "\n",
            "Utinam habemus assucverit ct est. Elit per\n",
            "Ex eam nusquam commune. Vis eu perpet\n",
            "Lorem ipsum dolor sit amet, te quaestio di\n",
            "Utinam habemus assueverit et est. Elit pertinacia mea no. At eleifenc\n",
            "Ex eam nusquam commune. Vis eu perpelua interessel. Utroque non\n",
            "\n",
            "|.orem ipsum dolor sit amet, te quacstio dignissim repudiandac cos,\n",
            "Sed ut perspiciatis unde omnis iste natus error sit voluptatem aceusa\n",
            "\f\n",
            "Lorem ipsum dolor\n",
            "\n",
            "Utinam habemus assucverit ct est. Elit per\n",
            "Ex eam nusquam commune. Vis eu perpet\n",
            "Lorem ipsum dolor sit amet, te quaestio di\n",
            "Utinam habemus assueverit et est. Elit pertinacia mea no. At eleifenc\n",
            "Ex eam nusquam commune. Vis eu perpelua interessel. Utroque non\n",
            "\n",
            "|.orem ipsum dolor sit amet, te quacstio dignissim repudiandac cos,\n",
            "Sed ut perspiciatis unde omnis iste natus error sit voluptatem aceusa\n",
            "\f\n",
            "Lorem ipsum dolor\n",
            "\n",
            "Utinam habemus assucverit ct est. Elit per\n",
            "Ex eam nusquam commune. Vis eu perpet\n",
            "Lorem ipsum dolor sit amet, te quaestio di\n",
            "Utinam habemus assueverit et est. Elit pertinacia mea no. At eleifenc\n",
            "Ex eam nusquam commune. Vis eu perpelua interessel. Utroque non\n",
            "\n",
            "|.orem ipsum dolor sit amet, te quacstio dignissim repudiandac cos,\n",
            "Sed ut perspiciatis unde omnis iste natus error sit voluptatem aceusa\n",
            "\f\n",
            "Lorem ipsum dolor\n",
            "\n",
            "Utinam habemus assucverit ct est. Elit per\n",
            "Ex eam nusquam commune. Vis eu perpet\n",
            "Lorem ipsum dolor sit amet, te quaestio di\n",
            "Utinam habemus assueverit et est. Elit pertinacia mea no. At eleifenc\n",
            "Ex eam nusquam commune. Vis eu perpelua interessel. Utroque non\n",
            "\n",
            "|.orem ipsum dolor sit amet, te quacstio dignissim repudiandac cos,\n",
            "Sed ut perspiciatis unde omnis iste natus error sit voluptatem aceusa\n",
            "\f\n",
            "Lorem ipsum dolor\n",
            "\n",
            "Utinam habemus assucverit ct est. Elit per\n",
            "Ex eam nusquam commune. Vis eu perpet\n",
            "Lorem ipsum dolor sit amet, te quaestio di\n",
            "Utinam habemus assueverit et est. Elit pertinacia mea no. At eleifenc\n",
            "Ex eam nusquam commune. Vis eu perpelua interessel. Utroque non\n",
            "\n",
            "|.orem ipsum dolor sit amet, te quacstio dignissim repudiandac cos,\n",
            "Sed ut perspiciatis unde omnis iste natus error sit voluptatem aceusa\n",
            "\f\n",
            "Lorem ipsum dolor\n",
            "\n",
            "Utinam habemus assucverit ct est. Elit per\n",
            "Ex eam nusquam commune. Vis eu perpet\n",
            "Lorem ipsum dolor sit amet, te quaestio di\n",
            "Utinam habemus assueverit et est. Elit pertinacia mea no. At eleifenc\n",
            "Ex eam nusquam commune. Vis eu perpelua interessel. Utroque non\n",
            "\n",
            "|.orem ipsum dolor sit amet, te quacstio dignissim repudiandac cos,\n",
            "Sed ut perspiciatis unde omnis iste natus error sit voluptatem aceusa\n",
            "\f\n",
            "Lorem ipsum dolor\n",
            "\n",
            "Utinam habemus assucverit ct est. Elit per\n",
            "Ex eam nusquam commune. Vis eu perpet\n",
            "Lorem ipsum dolor sit amet, te quaestio di\n",
            "Utinam habemus assueverit et est. Elit pertinacia mea no. At eleifenc\n",
            "Ex eam nusquam commune. Vis eu perpelua interessel. Utroque non\n",
            "\n",
            "|.orem ipsum dolor sit amet, te quacstio dignissim repudiandac cos,\n",
            "Sed ut perspiciatis unde omnis iste natus error sit voluptatem aceusa\n",
            "\f\n",
            "Lorem ipsum dolor\n",
            "\n",
            "Utinam habemus assucverit ct est. Elit per\n",
            "Ex eam nusquam commune. Vis eu perpet\n",
            "Lorem ipsum dolor sit amet, te quaestio di\n",
            "Utinam habemus assueverit et est. Elit pertinacia mea no. At eleifenc\n",
            "Ex eam nusquam commune. Vis eu perpelua interessel. Utroque non\n",
            "\n",
            "|.orem ipsum dolor sit amet, te quacstio dignissim repudiandac cos,\n",
            "Sed ut perspiciatis unde omnis iste natus error sit voluptatem aceusa\n",
            "\f\n",
            "Lorem ipsum dolor\n",
            "\n",
            "Utinam habemus assucverit ct est. Elit per\n",
            "Ex eam nusquam commune. Vis eu perpet\n",
            "Lorem ipsum dolor sit amet, te quaestio di\n",
            "Utinam habemus assueverit et est. Elit pertinacia mea no. At eleifenc\n",
            "Ex eam nusquam commune. Vis eu perpelua interessel. Utroque non\n",
            "\n",
            "|.orem ipsum dolor sit amet, te quacstio dignissim repudiandac cos,\n",
            "Sed ut perspiciatis unde omnis iste natus error sit voluptatem aceusa\n",
            "\f\n",
            "Lorem ipsum dolor\n",
            "\n",
            "Utinam habemus assucverit ct est. Elit per\n",
            "Ex eam nusquam commune. Vis eu perpet\n",
            "Lorem ipsum dolor sit amet, te quaestio di\n",
            "Utinam habemus assueverit et est. Elit pertinacia mea no. At eleifenc\n",
            "Ex eam nusquam commune. Vis eu perpelua interessel. Utroque non\n",
            "\n",
            "|.orem ipsum dolor sit amet, te quacstio dignissim repudiandac cos,\n",
            "Sed ut perspiciatis unde omnis iste natus error sit voluptatem aceusa\n",
            "\f\n",
            "Lorem ipsum dolor\n",
            "\n",
            "Utinam habemus assucverit ct est. Elit per\n",
            "Ex eam nusquam commune. Vis eu perpet\n",
            "Lorem ipsum dolor sit amet, te quaestio di\n",
            "Utinam habemus assueverit et est. Elit pertinacia mea no. At eleifenc\n",
            "Ex eam nusquam commune. Vis eu perpelua interessel. Utroque non\n",
            "\n",
            "|.orem ipsum dolor sit amet, te quacstio dignissim repudiandac cos,\n",
            "Sed ut perspiciatis unde omnis iste natus error sit voluptatem aceusa\n",
            "\f\n",
            "Lorem ipsum dolor\n",
            "\n",
            "Utinam habemus assucverit ct est. Elit per\n",
            "Ex eam nusquam commune. Vis eu perpet\n",
            "Lorem ipsum dolor sit amet, te quaestio di\n",
            "Utinam habemus assueverit et est. Elit pertinacia mea no. At eleifenc\n",
            "Ex eam nusquam commune. Vis eu perpelua interessel. Utroque non\n",
            "\n",
            "|.orem ipsum dolor sit amet, te quacstio dignissim repudiandac cos,\n",
            "Sed ut perspiciatis unde omnis iste natus error sit voluptatem aceusa\n",
            "\f\n",
            "Lorem ipsum dolor\n",
            "\n",
            "Utinam habemus assucverit ct est. Elit per\n",
            "Ex eam nusquam commune. Vis eu perpet\n",
            "Lorem ipsum dolor sit amet, te quaestio di\n",
            "Utinam habemus assueverit et est. Elit pertinacia mea no. At eleifenc\n",
            "Ex eam nusquam commune. Vis eu perpelua interessel. Utroque non\n",
            "\n",
            "|.orem ipsum dolor sit amet, te quacstio dignissim repudiandac cos,\n",
            "Sed ut perspiciatis unde omnis iste natus error sit voluptatem aceusa\n",
            "\f\n",
            "Lorem ipsum dolor\n",
            "\n",
            "Utinam habemus assucverit ct est. Elit per\n",
            "Ex eam nusquam commune. Vis eu perpet\n",
            "Lorem ipsum dolor sit amet, te quaestio di\n",
            "Utinam habemus assueverit et est. Elit pertinacia mea no. At eleifenc\n",
            "Ex eam nusquam commune. Vis eu perpelua interessel. Utroque non\n",
            "\n",
            "|.orem ipsum dolor sit amet, te quacstio dignissim repudiandac cos,\n",
            "Sed ut perspiciatis unde omnis iste natus error sit voluptatem aceusa\n",
            "\f\n",
            "Lorem ipsum dolor\n",
            "\n",
            "Utinam habemus assucverit ct est. Elit per\n",
            "Ex eam nusquam commune. Vis eu perpet\n",
            "Lorem ipsum dolor sit amet, te quaestio di\n",
            "Utinam habemus assueverit et est. Elit pertinacia mea no. At eleifenc\n",
            "Ex eam nusquam commune. Vis eu perpelua interessel. Utroque non\n",
            "\n",
            "|.orem ipsum dolor sit amet, te quacstio dignissim repudiandac cos,\n",
            "Sed ut perspiciatis unde omnis iste natus error sit voluptatem aceusa\n",
            "\f\n",
            "Lorem ipsum dolor\n",
            "\n",
            "Utinam habemus assucverit ct est. Elit per\n",
            "Ex eam nusquam commune. Vis eu perpet\n",
            "Lorem ipsum dolor sit amet, te quaestio di\n",
            "Utinam habemus assueverit et est. Elit pertinacia mea no. At eleifenc\n",
            "Ex eam nusquam commune. Vis eu perpelua interessel. Utroque non\n",
            "\n",
            "|.orem ipsum dolor sit amet, te quacstio dignissim repudiandac cos,\n",
            "Sed ut perspiciatis unde omnis iste natus error sit voluptatem aceusa\n",
            "\f\n",
            "Lorem ipsum dolor\n",
            "\n",
            "Utinam habemus assucverit ct est. Elit per\n",
            "Ex eam nusquam commune. Vis eu perpet\n",
            "Lorem ipsum dolor sit amet, te quaestio di\n",
            "Utinam habemus assueverit et est. Elit pertinacia mea no. At eleifenc\n",
            "Ex eam nusquam commune. Vis eu perpelua interessel. Utroque non\n",
            "\n",
            "|.orem ipsum dolor sit amet, te quacstio dignissim repudiandac cos,\n",
            "Sed ut perspiciatis unde omnis iste natus error sit voluptatem aceusa\n",
            "\f\n",
            "Lorem ipsum dolor\n",
            "\n",
            "Utinam habemus assucverit ct est. Elit per\n",
            "Ex eam nusquam commune. Vis eu perpet\n",
            "Lorem ipsum dolor sit amet, te quaestio di\n",
            "Utinam habemus assueverit et est. Elit pertinacia mea no. At eleifenc\n",
            "Ex eam nusquam commune. Vis eu perpelua interessel. Utroque non\n",
            "\n",
            "|.orem ipsum dolor sit amet, te quacstio dignissim repudiandac cos,\n",
            "Sed ut perspiciatis unde omnis iste natus error sit voluptatem aceusa\n",
            "\f\n"
          ]
        }
      ]
    },
    {
      "cell_type": "code",
      "source": [
        "def get_grayscale(image):\n",
        "  return cv2.cvtcolor(image, cv2.COLOR_BGR2GRAY)\n",
        "  gray = get_graysccale(image)\n",
        "  Image.fromarray(gray)"
      ],
      "metadata": {
        "id": "HjoddfhFP22x"
      },
      "execution_count": 31,
      "outputs": []
    },
    {
      "cell_type": "code",
      "source": [
        "#noise removal\n",
        "def remove_noise(image):\n",
        "  return cv2.medianBlur(image,5)\n",
        "  noise = remove_noise(gray)\n",
        "  Image.fromarray(gray)"
      ],
      "metadata": {
        "id": "iLq0dFvXQVWV"
      },
      "execution_count": 32,
      "outputs": []
    },
    {
      "cell_type": "code",
      "source": [
        "#thresholding\n",
        "def thresholding(image):\n",
        "  return cv2.threshold(image, 0, 255, cv2.THRESH_BINARY + cv2.THRESH_OTSU[1])\n",
        "  thresh = threshholding(gray)\n",
        "  Image.fromarray(thresh)"
      ],
      "metadata": {
        "id": "-Bj3tQ46Qtil"
      },
      "execution_count": 33,
      "outputs": []
    },
    {
      "cell_type": "code",
      "source": [
        "#erosion\n",
        "def erode(image):\n",
        "    kernel = np.ones((5,5),np.uint8)\n",
        "    return cv2.erode(image,kernel,iterations = 1)\n",
        "erode = erode(gray)\n",
        "Image.fromarray(erode)"
      ],
      "metadata": {
        "colab": {
          "base_uri": "https://localhost:8080/",
          "height": 238
        },
        "id": "lEAFrTztRY4r",
        "outputId": "5302a828-7c7e-4a7d-c079-3af5e167d620"
      },
      "execution_count": 36,
      "outputs": [
        {
          "output_type": "error",
          "ename": "NameError",
          "evalue": "ignored",
          "traceback": [
            "\u001b[0;31m---------------------------------------------------------------------------\u001b[0m",
            "\u001b[0;31mNameError\u001b[0m                                 Traceback (most recent call last)",
            "\u001b[0;32m<ipython-input-36-cfbf919cf95f>\u001b[0m in \u001b[0;36m<cell line: 5>\u001b[0;34m()\u001b[0m\n\u001b[1;32m      3\u001b[0m     \u001b[0mkernel\u001b[0m \u001b[0;34m=\u001b[0m \u001b[0mnp\u001b[0m\u001b[0;34m.\u001b[0m\u001b[0mones\u001b[0m\u001b[0;34m(\u001b[0m\u001b[0;34m(\u001b[0m\u001b[0;36m5\u001b[0m\u001b[0;34m,\u001b[0m\u001b[0;36m5\u001b[0m\u001b[0;34m)\u001b[0m\u001b[0;34m,\u001b[0m\u001b[0mnp\u001b[0m\u001b[0;34m.\u001b[0m\u001b[0muint8\u001b[0m\u001b[0;34m)\u001b[0m\u001b[0;34m\u001b[0m\u001b[0;34m\u001b[0m\u001b[0m\n\u001b[1;32m      4\u001b[0m     \u001b[0;32mreturn\u001b[0m \u001b[0mcv2\u001b[0m\u001b[0;34m.\u001b[0m\u001b[0merode\u001b[0m\u001b[0;34m(\u001b[0m\u001b[0mimage\u001b[0m\u001b[0;34m,\u001b[0m\u001b[0mkernel\u001b[0m\u001b[0;34m,\u001b[0m\u001b[0miterations\u001b[0m \u001b[0;34m=\u001b[0m \u001b[0;36m1\u001b[0m\u001b[0;34m)\u001b[0m\u001b[0;34m\u001b[0m\u001b[0;34m\u001b[0m\u001b[0m\n\u001b[0;32m----> 5\u001b[0;31m \u001b[0merode\u001b[0m \u001b[0;34m=\u001b[0m \u001b[0merode\u001b[0m\u001b[0;34m(\u001b[0m\u001b[0mgray\u001b[0m\u001b[0;34m)\u001b[0m\u001b[0;34m\u001b[0m\u001b[0;34m\u001b[0m\u001b[0m\n\u001b[0m\u001b[1;32m      6\u001b[0m \u001b[0mImage\u001b[0m\u001b[0;34m.\u001b[0m\u001b[0mfromarray\u001b[0m\u001b[0;34m(\u001b[0m\u001b[0merode\u001b[0m\u001b[0;34m)\u001b[0m\u001b[0;34m\u001b[0m\u001b[0;34m\u001b[0m\u001b[0m\n",
            "\u001b[0;31mNameError\u001b[0m: name 'gray' is not defined"
          ]
        }
      ]
    },
    {
      "cell_type": "code",
      "source": [
        "for fname in images:\n",
        "    img = cv2.imread(fname)\n",
        "    gray = cv2.cvtColor(img, cv2.COLOR_BGR2GRAY)\n",
        "\n",
        "    # find the chess board (calibration pattern) corners\n",
        "    ret, corners = cv2.findChessboardCorners(gray, (7, 6), None)\n",
        "\n",
        "    # if calibration pattern is found, add object points,\n",
        "    # image points (after refining them)\n",
        "    if ret == True:\n",
        "        objpoints.append(objp)\n",
        "\n",
        "        # Refine the corners of the detected corners\n",
        "        corners2 = cv2.cornerSubPix(gray, corners, (11, 11), (-1, -1), criteria)\n",
        "        imgpoints.append(corners2)\n",
        "\n",
        "        # Draw and display the corners\n",
        "        img = cv2.drawChessboardCorners(img, (7, 6), corners2, ret)\n",
        "\n",
        "ret, mtx, dist, rvecs, tvecs = cv2.calibrateCamera(objpoints, imgpoints, gray.shape[::-1], None, None)"
      ],
      "metadata": {
        "colab": {
          "base_uri": "https://localhost:8080/",
          "height": 258
        },
        "id": "wzy7pK9lSxDu",
        "outputId": "f2aceb8c-e8e7-43b7-93a6-125a0bb44778"
      },
      "execution_count": 37,
      "outputs": [
        {
          "output_type": "error",
          "ename": "NameError",
          "evalue": "ignored",
          "traceback": [
            "\u001b[0;31m---------------------------------------------------------------------------\u001b[0m",
            "\u001b[0;31mNameError\u001b[0m                                 Traceback (most recent call last)",
            "\u001b[0;32m<ipython-input-37-0275e87e3387>\u001b[0m in \u001b[0;36m<cell line: 1>\u001b[0;34m()\u001b[0m\n\u001b[0;32m----> 1\u001b[0;31m \u001b[0;32mfor\u001b[0m \u001b[0mfname\u001b[0m \u001b[0;32min\u001b[0m \u001b[0mimages\u001b[0m\u001b[0;34m:\u001b[0m\u001b[0;34m\u001b[0m\u001b[0;34m\u001b[0m\u001b[0m\n\u001b[0m\u001b[1;32m      2\u001b[0m     \u001b[0mimg\u001b[0m \u001b[0;34m=\u001b[0m \u001b[0mcv2\u001b[0m\u001b[0;34m.\u001b[0m\u001b[0mimread\u001b[0m\u001b[0;34m(\u001b[0m\u001b[0mfname\u001b[0m\u001b[0;34m)\u001b[0m\u001b[0;34m\u001b[0m\u001b[0;34m\u001b[0m\u001b[0m\n\u001b[1;32m      3\u001b[0m     \u001b[0mgray\u001b[0m \u001b[0;34m=\u001b[0m \u001b[0mcv2\u001b[0m\u001b[0;34m.\u001b[0m\u001b[0mcvtColor\u001b[0m\u001b[0;34m(\u001b[0m\u001b[0mimg\u001b[0m\u001b[0;34m,\u001b[0m \u001b[0mcv2\u001b[0m\u001b[0;34m.\u001b[0m\u001b[0mCOLOR_BGR2GRAY\u001b[0m\u001b[0;34m)\u001b[0m\u001b[0;34m\u001b[0m\u001b[0;34m\u001b[0m\u001b[0m\n\u001b[1;32m      4\u001b[0m \u001b[0;34m\u001b[0m\u001b[0m\n\u001b[1;32m      5\u001b[0m     \u001b[0;31m# find the chess board (calibration pattern) corners\u001b[0m\u001b[0;34m\u001b[0m\u001b[0;34m\u001b[0m\u001b[0m\n",
            "\u001b[0;31mNameError\u001b[0m: name 'images' is not defined"
          ]
        }
      ]
    },
    {
      "cell_type": "code",
      "source": [
        "image = cv2.imread('sample.png')"
      ],
      "metadata": {
        "id": "WoVyd9IzPtUE"
      },
      "execution_count": 30,
      "outputs": []
    },
    {
      "cell_type": "code",
      "source": [
        "from pytesseract import pytesseract\n"
      ],
      "metadata": {
        "id": "YatwFmR9NdHH"
      },
      "execution_count": 24,
      "outputs": []
    },
    {
      "cell_type": "code",
      "source": [
        "import image \n",
        "import pytesseract as pya\n",
        "\n",
        "pya.tesseract_cmd = r'https://www.southernliving.com/thmb/eSP7GwGqi5wpNok7I49fpx3gB64=/750x0/filters:no_upscale():max_bytes(150000):strip_icc():format(webp)/Maya-Angelou-Quote-fc2bb390ef424a30a81bfde213e12fab.png'\n",
        "print(pya.image_to_string(image.open('doggieville.png')))"
      ],
      "metadata": {
        "colab": {
          "base_uri": "https://localhost:8080/",
          "height": 432
        },
        "id": "QVi5YBP6MzHo",
        "outputId": "1dd9f1b7-465f-4212-de6d-0e6a981257eb"
      },
      "execution_count": 20,
      "outputs": [
        {
          "output_type": "error",
          "ename": "ModuleNotFoundError",
          "evalue": "ignored",
          "traceback": [
            "\u001b[0;31m---------------------------------------------------------------------------\u001b[0m",
            "\u001b[0;31mModuleNotFoundError\u001b[0m                       Traceback (most recent call last)",
            "\u001b[0;32m<ipython-input-20-47d7ae4feca3>\u001b[0m in \u001b[0;36m<cell line: 1>\u001b[0;34m()\u001b[0m\n\u001b[0;32m----> 1\u001b[0;31m \u001b[0;32mimport\u001b[0m \u001b[0mimage\u001b[0m\u001b[0;34m\u001b[0m\u001b[0;34m\u001b[0m\u001b[0m\n\u001b[0m\u001b[1;32m      2\u001b[0m \u001b[0;32mimport\u001b[0m \u001b[0mpytesseract\u001b[0m \u001b[0;32mas\u001b[0m \u001b[0mpya\u001b[0m\u001b[0;34m\u001b[0m\u001b[0;34m\u001b[0m\u001b[0m\n\u001b[1;32m      3\u001b[0m \u001b[0;34m\u001b[0m\u001b[0m\n\u001b[1;32m      4\u001b[0m \u001b[0mpya\u001b[0m\u001b[0;34m.\u001b[0m\u001b[0mtesseract_cmd\u001b[0m \u001b[0;34m=\u001b[0m \u001b[0;34mr'https://www.southernliving.com/thmb/eSP7GwGqi5wpNok7I49fpx3gB64=/750x0/filters:no_upscale():max_bytes(150000):strip_icc():format(webp)/Maya-Angelou-Quote-fc2bb390ef424a30a81bfde213e12fab.png'\u001b[0m\u001b[0;34m\u001b[0m\u001b[0;34m\u001b[0m\u001b[0m\n\u001b[1;32m      5\u001b[0m \u001b[0mprint\u001b[0m\u001b[0;34m(\u001b[0m\u001b[0mpya\u001b[0m\u001b[0;34m.\u001b[0m\u001b[0mimage_to_string\u001b[0m\u001b[0;34m(\u001b[0m\u001b[0mimage\u001b[0m\u001b[0;34m.\u001b[0m\u001b[0mopen\u001b[0m\u001b[0;34m(\u001b[0m\u001b[0;34m'doggieville.png'\u001b[0m\u001b[0;34m)\u001b[0m\u001b[0;34m)\u001b[0m\u001b[0;34m)\u001b[0m\u001b[0;34m\u001b[0m\u001b[0;34m\u001b[0m\u001b[0m\n",
            "\u001b[0;31mModuleNotFoundError\u001b[0m: No module named 'image'",
            "",
            "\u001b[0;31m---------------------------------------------------------------------------\u001b[0;32m\nNOTE: If your import is failing due to a missing package, you can\nmanually install dependencies using either !pip or !apt.\n\nTo view examples of installing some common dependencies, click the\n\"Open Examples\" button below.\n\u001b[0;31m---------------------------------------------------------------------------\u001b[0m\n"
          ],
          "errorDetails": {
            "actions": [
              {
                "action": "open_url",
                "actionText": "Open Examples",
                "url": "/notebooks/snippets/importing_libraries.ipynb"
              }
            ]
          }
        }
      ]
    },
    {
      "cell_type": "code",
      "source": [
        "import image \n",
        "import pytesseract as pya"
      ],
      "metadata": {
        "colab": {
          "base_uri": "https://localhost:8080/",
          "height": 354
        },
        "id": "DX3LnWH4M9eD",
        "outputId": "c63a88ca-6d2e-4cd1-e27e-74a52c3037f3"
      },
      "execution_count": 21,
      "outputs": [
        {
          "output_type": "error",
          "ename": "ModuleNotFoundError",
          "evalue": "ignored",
          "traceback": [
            "\u001b[0;31m---------------------------------------------------------------------------\u001b[0m",
            "\u001b[0;31mModuleNotFoundError\u001b[0m                       Traceback (most recent call last)",
            "\u001b[0;32m<ipython-input-21-56e59db6ce7d>\u001b[0m in \u001b[0;36m<cell line: 1>\u001b[0;34m()\u001b[0m\n\u001b[0;32m----> 1\u001b[0;31m \u001b[0;32mimport\u001b[0m \u001b[0mimage\u001b[0m\u001b[0;34m\u001b[0m\u001b[0;34m\u001b[0m\u001b[0m\n\u001b[0m\u001b[1;32m      2\u001b[0m \u001b[0;32mimport\u001b[0m \u001b[0mpytesseract\u001b[0m \u001b[0;32mas\u001b[0m \u001b[0mpya\u001b[0m\u001b[0;34m\u001b[0m\u001b[0;34m\u001b[0m\u001b[0m\n",
            "\u001b[0;31mModuleNotFoundError\u001b[0m: No module named 'image'",
            "",
            "\u001b[0;31m---------------------------------------------------------------------------\u001b[0;32m\nNOTE: If your import is failing due to a missing package, you can\nmanually install dependencies using either !pip or !apt.\n\nTo view examples of installing some common dependencies, click the\n\"Open Examples\" button below.\n\u001b[0;31m---------------------------------------------------------------------------\u001b[0m\n"
          ],
          "errorDetails": {
            "actions": [
              {
                "action": "open_url",
                "actionText": "Open Examples",
                "url": "/notebooks/snippets/importing_libraries.ipynb"
              }
            ]
          }
        }
      ]
    },
    {
      "cell_type": "code",
      "source": [
        "import pytesseract as pya"
      ],
      "metadata": {
        "id": "w1L7JzXdNEnx"
      },
      "execution_count": 22,
      "outputs": []
    },
    {
      "cell_type": "code",
      "source": [
        "pip install pytesseract"
      ],
      "metadata": {
        "colab": {
          "base_uri": "https://localhost:8080/"
        },
        "id": "cIICtbPhJm09",
        "outputId": "bbe23fb2-4329-47b3-dea2-1fa1f3d8b708"
      },
      "execution_count": 12,
      "outputs": [
        {
          "output_type": "stream",
          "name": "stdout",
          "text": [
            "Looking in indexes: https://pypi.org/simple, https://us-python.pkg.dev/colab-wheels/public/simple/\n",
            "Collecting pytesseract\n",
            "  Using cached pytesseract-0.3.10-py3-none-any.whl (14 kB)\n",
            "Requirement already satisfied: packaging>=21.3 in /usr/local/lib/python3.10/dist-packages (from pytesseract) (23.1)\n",
            "Requirement already satisfied: Pillow>=8.0.0 in /usr/local/lib/python3.10/dist-packages (from pytesseract) (8.4.0)\n",
            "Installing collected packages: pytesseract\n",
            "Successfully installed pytesseract-0.3.10\n"
          ]
        }
      ]
    },
    {
      "cell_type": "code",
      "source": [
        "from PIL import Image\n",
        "import pytesseract\n",
        "import cv2\n",
        "import numpy as np\n",
        "from pytesseract import Output\n",
        "import re"
      ],
      "metadata": {
        "id": "ZxogH6XPHnkG"
      },
      "execution_count": null,
      "outputs": []
    },
    {
      "cell_type": "code",
      "source": [
        "$ pip install pillow"
      ],
      "metadata": {
        "colab": {
          "base_uri": "https://localhost:8080/",
          "height": 141
        },
        "id": "c0MSG353HG1y",
        "outputId": "c9b42da7-dc6f-4dd8-f89a-651442f37316"
      },
      "execution_count": 8,
      "outputs": [
        {
          "output_type": "error",
          "ename": "SyntaxError",
          "evalue": "ignored",
          "traceback": [
            "\u001b[0;36m  File \u001b[0;32m\"<ipython-input-8-f64082274c34>\"\u001b[0;36m, line \u001b[0;32m1\u001b[0m\n\u001b[0;31m    $ pip install pillow\u001b[0m\n\u001b[0m    ^\u001b[0m\n\u001b[0;31mSyntaxError\u001b[0m\u001b[0;31m:\u001b[0m invalid syntax\n"
          ]
        }
      ]
    },
    {
      "cell_type": "code",
      "source": [
        "pip install pillow"
      ],
      "metadata": {
        "colab": {
          "base_uri": "https://localhost:8080/"
        },
        "id": "6oBhCrD3HMdJ",
        "outputId": "5bc586c8-bb78-41d7-ef28-54a9cbc9af16"
      },
      "execution_count": 9,
      "outputs": [
        {
          "output_type": "stream",
          "name": "stdout",
          "text": [
            "Looking in indexes: https://pypi.org/simple, https://us-python.pkg.dev/colab-wheels/public/simple/\n",
            "Requirement already satisfied: pillow in /usr/local/lib/python3.10/dist-packages (8.4.0)\n"
          ]
        }
      ]
    }
  ]
}